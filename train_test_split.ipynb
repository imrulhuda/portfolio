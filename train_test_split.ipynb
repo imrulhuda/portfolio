{
 "cells": [
  {
   "cell_type": "markdown",
   "metadata": {},
   "source": [
    "# Creating Test and Train dataset"
   ]
  },
  {
   "cell_type": "code",
   "execution_count": 1,
   "metadata": {},
   "outputs": [],
   "source": [
    "import pandas as pd\n",
    "import seaborn as sns\n",
    "import numpy as np\n",
    "from sklearn import preprocessing\n",
    "from sklearn.model_selection import train_test_split"
   ]
  },
  {
   "cell_type": "code",
   "execution_count": 2,
   "metadata": {},
   "outputs": [
    {
     "name": "stderr",
     "output_type": "stream",
     "text": [
      "C:\\Users\\ih2344\\AppData\\Local\\Continuum\\anaconda3\\envs\\py36\\lib\\site-packages\\IPython\\core\\interactiveshell.py:3049: DtypeWarning: Columns (37) have mixed types. Specify dtype option on import or set low_memory=False.\n",
      "  interactivity=interactivity, compiler=compiler, result=result)\n"
     ]
    }
   ],
   "source": [
    "data = pd.read_csv(r\"C:\\\\Users\\\\ih2344\\\\Dropbox\\\\Raquel Senior - Jorge Guzman\\\\Imrul Stata\\\\bizowner.csv\", encoding='latin-1')"
   ]
  },
  {
   "cell_type": "code",
   "execution_count": 3,
   "metadata": {},
   "outputs": [],
   "source": [
    "cols_to_drop = ['idmaster', 'fullname', 'lname', 'fname', 'middleb', 'profession', 'districtb', 'u1', 'osu1type',\n",
    "       'u2', 'hs', 'u1state', 'u1address', 'u1city', 'u1zip', 'addresscitystatezip', 'formatch', \n",
    "       'u1_lh2000', 'u1_lh2000name', 'u1_lh2010', 'u1_lh2010name',  \n",
    "       'u1_uh2000','u1_uh2000name', 'u1_uh2010', 'u1_uh2010name',\n",
    "       'degree1_code', 'degree2_code', 'x', 'y', 'statecode', \n",
    "       'local_degree', 'prob_entrepreneur', 'p', 'ceo', 'president', 'director', 'profession', \n",
    "       'districtb', 'districtnumb', 'dvtn', 'numberofwinners', 'termactualb', 'home']"
   ]
  },
  {
   "cell_type": "code",
   "execution_count": 4,
   "metadata": {},
   "outputs": [],
   "source": [
    "reduced_df = data.drop(columns=cols_to_drop)\n",
    "reduced_df = reduced_df.drop_duplicates()"
   ]
  },
  {
   "cell_type": "code",
   "execution_count": 5,
   "metadata": {},
   "outputs": [],
   "source": [
    "ent_any = pd.DataFrame(reduced_df.groupby('idklarner').apply(lambda x: int(x['entrepreneur'].mean() > 0)))\n",
    "ent_any['ent_any'] = ent_any[0]\n",
    "reduced_df = reduced_df.merge(ent_any, on='idklarner', how='left')\n",
    "# age variables\n",
    "reduced_df['birth'] = pd.to_datetime(reduced_df['birth'], errors = 'coerce')\n",
    "reduced_df['age_at_election'] = reduced_df['election'] - reduced_df['birth'].dt.year\n",
    "age_first = pd.DataFrame(reduced_df.groupby('idklarner').apply(lambda x: x['age_at_election'].min()))\n",
    "age_first['age_first'] = age_first[0]\n",
    "reduced_df = reduced_df.merge(age_first, on='idklarner', how='left')\n",
    "reduced_df['age_u1'] = reduced_df['u1year'] - reduced_df['birth'].dt.year\n",
    "reduced_df['age_u1'] = reduced_df['age_u1'].apply(lambda x: x if x > 0 else None)\n",
    "reduced_df['age_u2'] = reduced_df['u2year'] - reduced_df['birth'].dt.year\n",
    "reduced_df['age_u2'] = reduced_df['age_u2'].apply(lambda x: x if x > 0 else None)\n",
    "ran_for = pd.DataFrame(reduced_df.groupby('idklarner').apply(lambda x: 3 if x['chamberb'].nunique() > 1 else list(x['chamberb'])[0]))\n",
    "ran_for['ran_for'] = ran_for[0]\n",
    "reduced_df = reduced_df.merge(ran_for, on='idklarner', how='left')\n",
    "ran_as = pd.DataFrame(reduced_df.groupby('idklarner').apply(lambda x: 5 if x['partyb'].nunique() > 1 else list(x['partyb'])[0]))\n",
    "ran_as['ran_as'] = ran_as[0]\n",
    "reduced_df = reduced_df.merge(ran_as, on='idklarner', how='left')\n",
    "quality_df = pd.read_csv(r\"C:\\Users\\ih2344\\Dropbox\\Raquel Senior - Jorge Guzman\\Imrul Stata\\state_2002_2014.csv\")\n",
    "reduced_df = reduced_df.merge(quality_df, left_on=\"state\", right_on=\"datastate\", how=\"left\")\n",
    "salary_df = pd.read_csv(r\"C:\\Users\\ih2344\\Dropbox\\Raquel Senior - Jorge Guzman\\Imrul Stata\\salaries by legislators.csv\")\n",
    "salary_df['salary'] = salary_df['salary'].apply(lambda x: x.replace(\"$\", \"\").replace(\",\",\"\") if type(x) == str else x)\n",
    "salary_df[' per_diem  '] = salary_df[' per_diem  '].apply(lambda x: x.replace(\"$\", \"\").replace(\",\",\"\") if type(x) == str else x)\n",
    "salary_df['salary'] = salary_df['salary'].astype(\"float\")\n",
    "salary_df = salary_df[salary_df['salary'] > 0]\n",
    "x = pd.DataFrame(salary_df['salary'])\n",
    "min_max_scaler = preprocessing.MinMaxScaler()\n",
    "x_scaled = min_max_scaler.fit_transform(x)\n",
    "salary_df['salary_norm'] = pd.DataFrame(x_scaled)\n",
    "reduced_df = reduced_df.merge(salary_df, on=\"state\", how=\"left\")"
   ]
  },
  {
   "cell_type": "code",
   "execution_count": 6,
   "metadata": {},
   "outputs": [],
   "source": [
    "numeric_variables = reduced_df.groupby(\"idklarner\").agg({\"ent_any\": np.mean,\n",
    "                                     \"age_at_election\": np.mean,\n",
    "                                     \"age_first\": np.mean,\n",
    "                                     \"age_u1\": np.mean,\n",
    "                                     \"age_u2\": np.mean,\n",
    "                                     \"recpi\": np.mean,\n",
    "                                     \"salary_norm\": np.mean})\n",
    "\n",
    "categorical_variables = reduced_df.groupby(\"idklarner\").agg({\"ent_any\": \"first\",\n",
    "                                     \"ran_as\": \"first\",\n",
    "                                     \"ran_for\": \"first\",\n",
    "                                     \"gender\": \"first\",\n",
    "                                     \"degree1\": \"first\",\n",
    "                                     \"degree2\": \"first\"})"
   ]
  },
  {
   "cell_type": "code",
   "execution_count": 7,
   "metadata": {},
   "outputs": [],
   "source": [
    "categorical_variables['degree2'] = categorical_variables['degree2'].fillna(\"0\")\n",
    "categorical_variables['degree1'] = categorical_variables['degree1'].fillna(\"0\")\n",
    "party_dict = {1: \"DEMOCRAT\", \n",
    "              2: \"NON-MAJOR PARTY\", \n",
    "              3: \"NON-PARTISAN ELECTION\", \n",
    "              4: \"REPUBLICAN\", \n",
    "              5: \"SWITCHED_PARTY\"}\n",
    "chamber_dict = {1: \"LOWER-HOUSE\", \n",
    "                2: \"UPPER-HOUSE\", \n",
    "                3: \"BOTH-HOUSE\"}\n",
    "gender_dict = {1: \"FEMALE\", \n",
    "          2: \"MALE\"}\n",
    "categorical_variables['ran_as'] = categorical_variables['ran_as'].apply(lambda x: party_dict[x])\n",
    "categorical_variables['ran_for'] = categorical_variables['ran_for'].apply(lambda x: chamber_dict[x])\n",
    "categorical_variables['gender'] = categorical_variables['gender'].apply(lambda x: gender_dict[x])"
   ]
  },
  {
   "cell_type": "code",
   "execution_count": 8,
   "metadata": {},
   "outputs": [],
   "source": [
    "df = numeric_variables.merge(categorical_variables, left_index=True, right_index=True)"
   ]
  },
  {
   "cell_type": "code",
   "execution_count": 9,
   "metadata": {},
   "outputs": [],
   "source": [
    "df = df[['age_at_election',\n",
    " 'age_first',\n",
    " 'recpi',\n",
    " 'salary_norm',\n",
    " 'ran_as',\n",
    " 'ran_for',\n",
    " 'gender',\n",
    " 'degree1',\n",
    " 'degree2','ent_any_x']]"
   ]
  },
  {
   "cell_type": "code",
   "execution_count": 10,
   "metadata": {},
   "outputs": [],
   "source": [
    "degree_first = pd.get_dummies(df['degree1'],prefix=\"degree_1\",drop_first=True)\n",
    "degree_second = pd.get_dummies(df['degree2'],prefix=\"degree_2\",drop_first=True)\n",
    "gender = pd.get_dummies(df['gender'],drop_first=True)\n",
    "ran_as = pd.get_dummies(df['ran_as'],drop_first=True)\n",
    "ran_for = pd.get_dummies(df['ran_for'],drop_first=True)\n",
    "df.drop(['degree1', 'degree2', 'gender', 'ran_as', 'ran_for'], axis=1, inplace=True)"
   ]
  },
  {
   "cell_type": "code",
   "execution_count": 11,
   "metadata": {},
   "outputs": [],
   "source": [
    "df = pd.concat([df, degree_first, degree_second, gender, ran_as, ran_for],axis=1)"
   ]
  },
  {
   "cell_type": "code",
   "execution_count": 12,
   "metadata": {},
   "outputs": [],
   "source": [
    "mean_salary = df['salary_norm'].mean()\n",
    "mean_age_at_election = df['age_at_election'].mean()\n",
    "mean_age_first = df['age_first'].mean()\n",
    "mean_recpi = df['recpi'].mean()\n",
    "df['salary_norm'] = df['salary_norm'].fillna(mean_salary)\n",
    "df['age_at_election'] = df['age_at_election'].fillna(mean_age_at_election)\n",
    "df['age_first'] = df['age_first'].fillna(mean_age_first)\n",
    "df['recpi'] = df['recpi'].fillna(mean_recpi)"
   ]
  },
  {
   "cell_type": "code",
   "execution_count": 13,
   "metadata": {},
   "outputs": [],
   "source": [
    "train, test = train_test_split(df, test_size=0.3, random_state=101)"
   ]
  },
  {
   "cell_type": "code",
   "execution_count": 14,
   "metadata": {},
   "outputs": [
    {
     "data": {
      "text/plain": [
       "(11655, 257)"
      ]
     },
     "execution_count": 14,
     "metadata": {},
     "output_type": "execute_result"
    }
   ],
   "source": [
    "train.shape"
   ]
  },
  {
   "cell_type": "code",
   "execution_count": 15,
   "metadata": {},
   "outputs": [
    {
     "data": {
      "text/plain": [
       "(4995, 257)"
      ]
     },
     "execution_count": 15,
     "metadata": {},
     "output_type": "execute_result"
    }
   ],
   "source": [
    "test.shape"
   ]
  },
  {
   "cell_type": "code",
   "execution_count": 16,
   "metadata": {},
   "outputs": [],
   "source": [
    "train.to_csv(\"train.csv\")\n",
    "test.to_csv(\"test.csv\")"
   ]
  }
 ],
 "metadata": {
  "kernelspec": {
   "display_name": "Python 3",
   "language": "python",
   "name": "python3"
  },
  "language_info": {
   "codemirror_mode": {
    "name": "ipython",
    "version": 3
   },
   "file_extension": ".py",
   "mimetype": "text/x-python",
   "name": "python",
   "nbconvert_exporter": "python",
   "pygments_lexer": "ipython3",
   "version": "3.6.8"
  }
 },
 "nbformat": 4,
 "nbformat_minor": 2
}
