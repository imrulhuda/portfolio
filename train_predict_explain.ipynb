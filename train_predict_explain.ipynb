{
 "cells": [
  {
   "cell_type": "markdown",
   "metadata": {},
   "source": [
    "# Random Forest Model"
   ]
  },
  {
   "cell_type": "markdown",
   "metadata": {},
   "source": [
    "First, we extract the probabilities from a logit model. Then, we also do the same for a Random Forest model. Predicted probabilities may not me important from a Machine Learning perspective but from a researcher's perspective it is interesting to explore what explains the variance in this probabilities. We also try to address the issue of having an unbalanced data with a ensembled learning. "
   ]
  },
  {
   "cell_type": "code",
   "execution_count": null,
   "metadata": {},
   "outputs": [],
   "source": [
    "from sklearn.linear_model import LogisticRegression\n",
    "from sklearn.model_selection import train_test_split, StratifiedKFold, GridSearchCV\n",
    "from sklearn.metrics import classification_report, make_scorer, recall_score, f1_score, confusion_matrix\n",
    "from sklearn import preprocessing\n",
    "from sklearn.preprocessing import OneHotEncoder, Imputer\n",
    "from sklearn.ensemble import RandomForestClassifier\n",
    "import sklearn.metrics as skm\n",
    "import matplotlib.pyplot as plt\n",
    "import seaborn as sns\n",
    "import pandas as pd\n",
    "import math\n",
    "import numpy as np\n",
    "import warnings"
   ]
  },
  {
   "cell_type": "code",
   "execution_count": 4,
   "metadata": {},
   "outputs": [],
   "source": [
    "warnings.filterwarnings('ignore')"
   ]
  },
  {
   "cell_type": "code",
   "execution_count": 26,
   "metadata": {},
   "outputs": [],
   "source": [
    "train = pd.read_csv(\"train.csv\")\n",
    "test = pd.read_csv(\"test.csv\")"
   ]
  },
  {
   "cell_type": "code",
   "execution_count": 28,
   "metadata": {},
   "outputs": [],
   "source": [
    "X_train = train.drop(['ent_any_x', 'idklarner'], axis=1)\n",
    "y_train = train['ent_any_x'].values\n",
    "X_test = test.drop(['ent_any_x', 'idklarner'], axis=1)\n",
    "y_test = test['ent_any_x'].values"
   ]
  },
  {
   "cell_type": "markdown",
   "metadata": {},
   "source": [
    "## Logit Model"
   ]
  },
  {
   "cell_type": "code",
   "execution_count": null,
   "metadata": {
    "scrolled": true
   },
   "outputs": [],
   "source": [
    "logmodel = LogisticRegression()\n",
    "logmodel.fit(X_train,y_train)\n",
    "predictions = logmodel.predict(X_test)\n",
    "print(classification_report(y_test,predictions))"
   ]
  },
  {
   "cell_type": "markdown",
   "metadata": {},
   "source": [
    "### Random Forest - v1"
   ]
  },
  {
   "cell_type": "code",
   "execution_count": 7,
   "metadata": {
    "scrolled": true
   },
   "outputs": [],
   "source": [
    "# X_train, X_test, y_train, y_test = train_test_split(X, y, test_size=0.50, random_state=101)"
   ]
  },
  {
   "cell_type": "code",
   "execution_count": 36,
   "metadata": {},
   "outputs": [
    {
     "data": {
      "text/plain": [
       "RandomForestClassifier(bootstrap=True, class_weight=None, criterion='gini',\n",
       "                       max_depth=None, max_features='auto', max_leaf_nodes=10,\n",
       "                       min_impurity_decrease=0.0, min_impurity_split=None,\n",
       "                       min_samples_leaf=1, min_samples_split=2,\n",
       "                       min_weight_fraction_leaf=0.0, n_estimators=500, n_jobs=1,\n",
       "                       oob_score=False, random_state=None, verbose=0,\n",
       "                       warm_start=False)"
      ]
     },
     "execution_count": 36,
     "metadata": {},
     "output_type": "execute_result"
    }
   ],
   "source": [
    "rnd_clf = RandomForestClassifier(n_estimators=500, max_leaf_nodes=10, n_jobs=1)\n",
    "rnd_clf.fit(X_train,y_train)"
   ]
  },
  {
   "cell_type": "code",
   "execution_count": 63,
   "metadata": {},
   "outputs": [],
   "source": [
    "predictions_test = rnd_clf.predict_proba(X_test)[:,1]"
   ]
  },
  {
   "cell_type": "code",
   "execution_count": 64,
   "metadata": {},
   "outputs": [],
   "source": [
    "predictions_test = pd.DataFrame(predictions_test, columns=[\"prob\"])"
   ]
  },
  {
   "cell_type": "code",
   "execution_count": 65,
   "metadata": {},
   "outputs": [],
   "source": [
    "predictions_test['idklarner'] = test['idklarner']"
   ]
  },
  {
   "cell_type": "code",
   "execution_count": 66,
   "metadata": {},
   "outputs": [],
   "source": [
    "predictions_train = rnd_clf.predict_proba(X_train)[:,1]"
   ]
  },
  {
   "cell_type": "code",
   "execution_count": 67,
   "metadata": {},
   "outputs": [],
   "source": [
    "predictions_train = pd.DataFrame(predictions_train, columns=[\"prob\"])"
   ]
  },
  {
   "cell_type": "code",
   "execution_count": 68,
   "metadata": {},
   "outputs": [],
   "source": [
    "predictions_train['idklarner'] = train['idklarner']"
   ]
  },
  {
   "cell_type": "code",
   "execution_count": 70,
   "metadata": {},
   "outputs": [],
   "source": [
    "pd.concat([predictions_train, predictions_test]).to_csv(\"predicted_prob.csv\")"
   ]
  },
  {
   "cell_type": "code",
   "execution_count": 25,
   "metadata": {},
   "outputs": [
    {
     "name": "stdout",
     "output_type": "stream",
     "text": [
      "Training Data ROC 0.5\n",
      "Testing Data ROC 0.6632136385794832\n"
     ]
    }
   ],
   "source": [
    "print(\"Training Data ROC\",skm.roc_auc_score(y_train,  rnd_clf.predict(X_train)))\n",
    "print(\"Testing Data ROC\",skm.roc_auc_score(y_test, predictions))"
   ]
  },
  {
   "cell_type": "code",
   "execution_count": 122,
   "metadata": {},
   "outputs": [
    {
     "name": "stdout",
     "output_type": "stream",
     "text": [
      "\n",
      "\t RANDOM FOREST FEATURE RANKING\n",
      "\t1. feature REPUBLICAN (0.159566)\n",
      "\t2. feature salary_norm (0.122808)\n",
      "\t3. feature age_at_election (0.091221)\n",
      "\t4. feature age_first (0.083143)\n",
      "\t5. feature any_JD (0.080736)\n",
      "\t6. feature recpi (0.069605)\n",
      "\t7. feature LOWER-HOUSE (0.049128)\n",
      "\t8. feature SWITCHED_PARTY (0.031813)\n",
      "\t9. feature degree_2_MSA (0.028442)\n",
      "\t10. feature any_BS (0.027863)\n",
      "\t11. feature UPPER-HOUSE (0.018862)\n",
      "\t12. feature any_BA (0.018305)\n",
      "\t13. feature MALE (0.017811)\n",
      "\t14. feature degree_2_MPS (0.013739)\n",
      "\t15. feature degree_1_BSCE (0.013440)\n",
      "\t16. feature degree_1_Graduate (0.012816)\n",
      "\t17. feature any_BSC (0.012230)\n",
      "\t18. feature degree_1_BD (0.012223)\n",
      "\t19. feature degree_1_AOS (0.011717)\n",
      "\t20. feature degree_1_Bachelors (0.011529)\n",
      "\t21. feature any_AD (0.010455)\n",
      "\t22. feature degree_2_MM (0.009815)\n",
      "\t23. feature degree_1_BSE (0.009200)\n",
      "\t24. feature any_Attended (0.008543)\n",
      "\t25. feature any_Diploma (0.006612)\n",
      "\t26. feature any_DVM (0.006150)\n",
      "\t27. feature any_PhD (0.005427)\n",
      "\t28. feature any_MS (0.005055)\n",
      "\t29. feature degree_1_BEd (0.004527)\n",
      "\t30. feature any_CLU (0.004512)\n",
      "\t31. feature any_MD (0.004120)\n",
      "\t32. feature degree_1_AB (0.003591)\n",
      "\t33. feature any_MA (0.003544)\n",
      "\t34. feature any_AS (0.003414)\n",
      "\t35. feature any_MED (0.003130)\n",
      "\t36. feature any_AA (0.002886)\n",
      "\t37. feature degree_2_MEd (0.002626)\n",
      "\t38. feature NON-PARTISAN ELECTION (0.002371)\n",
      "\t39. feature any_ME (0.002261)\n",
      "\t40. feature any_RN (0.001823)\n",
      "\t41. feature degree_2_MAT (0.001578)\n",
      "\t42. feature any_MSW (0.001544)\n",
      "\t43. feature degree_2_EdS (0.001394)\n",
      "\t44. feature any_PHD (0.001370)\n",
      "\t45. feature any_MPA (0.001351)\n",
      "\t46. feature any_LLB (0.001145)\n",
      "\t47. feature degree_2_EdD (0.001022)\n",
      "\t48. feature degree_1_BSN (0.000637)\n",
      "\t49. feature NON-MAJOR PARTY (0.000582)\n",
      "\t50. feature any_BFA (0.000498)\n",
      "\t51. feature any_MDiv (0.000340)\n",
      "\t52. feature degree_2_MLA (0.000291)\n",
      "\t53. feature any_DDS (0.000254)\n",
      "\t54. feature any_LLM (0.000189)\n",
      "\t55. feature degree_2_MALS (0.000152)\n",
      "\t56. feature degree_2_MSN (0.000124)\n",
      "\t57. feature degree_2_MPH (0.000108)\n",
      "\t58. feature any_BSEE (0.000051)\n",
      "\t59. feature any_MPP (0.000042)\n",
      "\t60. feature degree_2_MFA (0.000029)\n",
      "\t61. feature any_LPN (0.000024)\n",
      "\t62. feature degree_2_MLS (0.000024)\n",
      "\t63. feature degree_1_BSW (0.000021)\n",
      "\t64. feature degree_2_DMin (0.000019)\n",
      "\t65. feature degree_2_DO (0.000017)\n",
      "\t66. feature degree_2_CAGS (0.000017)\n",
      "\t67. feature any_DC (0.000014)\n",
      "\t68. feature any_MSE (0.000014)\n",
      "\t69. feature degree_1_PA (0.000010)\n",
      "\t70. feature degree_1_BLA (0.000009)\n",
      "\t71. feature degree_2_Med (0.000008)\n",
      "\t72. feature degree_1_BSA (0.000007)\n",
      "\t73. feature degree_2_MSJ (0.000007)\n",
      "\t74. feature degree_2_MeD (0.000007)\n",
      "\t75. feature degree_2_OD (0.000006)\n",
      "\t76. feature degree_1_Graduated (0.000006)\n",
      "\t77. feature degree_2_BRE (0.000005)\n",
      "\t78. feature degree_1_BPA (0.000005)\n",
      "\t79. feature degree_2_LLD (0.000003)\n",
      "\t80. feature degree_2_MHR (0.000003)\n",
      "\t81. feature degree_2_EDS (0.000003)\n",
      "\t82. feature degree_1_BSFS (0.000003)\n",
      "\t83. feature degree_2_MSc (0.000003)\n",
      "\t84. feature degree_2_MC (0.000003)\n",
      "\t85. feature degree_1_ODU (0.000003)\n",
      "\t86. feature degree_1_MBE (0.000000)\n",
      "\t87. feature degree_1_BE (0.000000)\n",
      "\t88. feature degree_1_EdB (0.000000)\n",
      "\t89. feature degree_1_GED (0.000000)\n",
      "\t90. feature degree_1_BCS (0.000000)\n",
      "\t91. feature degree_1_BCET (0.000000)\n",
      "\t92. feature degree_1_BCE (0.000000)\n",
      "\t93. feature degree_1_Honorary Doctorate (0.000000)\n",
      "\t94. feature degree_1_Honorary Ph.D. (0.000000)\n",
      "\t95. feature degree_1_BMeEd (0.000000)\n",
      "\t96. feature degree_1_MSD (0.000000)\n",
      "\t97. feature degree_1_Democratic (0.000000)\n",
      "\t98. feature degree_1_BAE (0.000000)\n",
      "\t99. feature degree_1_MSM (0.000000)\n",
      "\t100. feature degree_1_ABJ (0.000000)\n",
      "\t101. feature degree_1_SB (0.000000)\n",
      "\t102. feature degree_1_SCC (0.000000)\n",
      "\t103. feature degree_2_ADN (0.000000)\n",
      "\t104. feature degree_2_BL (0.000000)\n",
      "\t105. feature degree_2_BLS (0.000000)\n",
      "\t106. feature any_MSEd (0.000000)\n",
      "\t107. feature degree_1_EMT (0.000000)\n",
      "\t108. feature degree_1_CPA (0.000000)\n",
      "\t109. feature degree_1_BMUS (0.000000)\n",
      "\t110. feature degree_1_BED (0.000000)\n",
      "\t111. feature degree_1_BPS (0.000000)\n",
      "\t112. feature degree_1_BMEd (0.000000)\n",
      "\t113. feature degree_1_BSB (0.000000)\n",
      "\t114. feature any_MBA (0.000000)\n",
      "\t115. feature degree_2_CAI (0.000000)\n",
      "\t116. feature degree_1_BM (0.000000)\n",
      "\t117. feature degree_1_BSED (0.000000)\n",
      "\t118. feature degree_1_BJ (0.000000)\n",
      "\t119. feature degree_1_BSEET (0.000000)\n",
      "\t120. feature degree_1_BIS (0.000000)\n",
      "\t121. feature degree_1_BSEd (0.000000)\n",
      "\t122. feature degree_1_BSIE (0.000000)\n",
      "\t123. feature degree_1_BSJ (0.000000)\n",
      "\t124. feature degree_1_BSL (0.000000)\n",
      "\t125. feature degree_1_BIE (0.000000)\n",
      "\t126. feature degree_1_BSS (0.000000)\n",
      "\t127. feature degree_1_BHS (0.000000)\n",
      "\t128. feature degree_1_BGE (0.000000)\n",
      "\t129. feature degree_1_BGA (0.000000)\n",
      "\t130. feature degree_1_BEE (0.000000)\n",
      "\t131. feature degree_1_CBRT (0.000000)\n",
      "\t132. feature any_ABD (0.000000)\n",
      "\t133. feature degree_2_DPT (0.000000)\n",
      "\t134. feature degree_2_CFFP (0.000000)\n",
      "\t135. feature degree_2_MSC (0.000000)\n",
      "\t136. feature degree_2_MHSA (0.000000)\n",
      "\t137. feature degree_2_MIE (0.000000)\n",
      "\t138. feature degree_2_MIM (0.000000)\n",
      "\t139. feature degree_2_MIS (0.000000)\n",
      "\t140. feature degree_2_MJ (0.000000)\n",
      "\t141. feature degree_2_MJS (0.000000)\n",
      "\t142. feature degree_2_MN (0.000000)\n",
      "\t143. feature degree_2_MP (0.000000)\n",
      "\t144. feature degree_2_MPE (0.000000)\n",
      "\t145. feature degree_2_MPM (0.000000)\n",
      "\t146. feature degree_2_MPPA (0.000000)\n",
      "\t147. feature degree_2_MPU (0.000000)\n",
      "\t148. feature degree_2_MRE (0.000000)\n",
      "\t149. feature any_BGS (0.000000)\n",
      "\t150. feature degree_2_MSEE (0.000000)\n",
      "\t151. feature degree_2_CMFA (0.000000)\n",
      "\t152. feature degree_2_MSEL (0.000000)\n",
      "\t153. feature degree_2_MSHS (0.000000)\n",
      "\t154. feature degree_2_MSL (0.000000)\n",
      "\t155. feature degree_2_MSP (0.000000)\n",
      "\t156. feature degree_2_MSS (0.000000)\n",
      "\t157. feature degree_2_MSST (0.000000)\n",
      "\t158. feature degree_2_MST (0.000000)\n",
      "\t159. feature degree_2_Mdif (0.000000)\n",
      "\t160. feature degree_2_Mdiv (0.000000)\n",
      "\t161. feature degree_2_OCS (0.000000)\n",
      "\t162. feature degree_2_PharmD (0.000000)\n",
      "\t163. feature degree_2_Pharmacy Degree (0.000000)\n",
      "\t164. feature degree_2_Phd (0.000000)\n",
      "\t165. feature degree_2_RPh (0.000000)\n",
      "\t166. feature degree_2_MHS (0.000000)\n",
      "\t167. feature degree_2_MHA (0.000000)\n",
      "\t168. feature degree_2_MGA (0.000000)\n",
      "\t169. feature degree_2_MEng (0.000000)\n",
      "\t170. feature degree_2_CPM (0.000000)\n",
      "\t171. feature degree_2_CSS (0.000000)\n",
      "\t172. feature degree_2_DCM (0.000000)\n",
      "\t173. feature degree_2_DD (0.000000)\n",
      "\t174. feature degree_2_DDM (0.000000)\n",
      "\t175. feature degree_2_DED (0.000000)\n",
      "\t176. feature degree_2_DM (0.000000)\n",
      "\t177. feature degree_2_DMV (0.000000)\n",
      "\t178. feature any_BBA (0.000000)\n",
      "\t179. feature degree_2_DSW (0.000000)\n",
      "\t180. feature degree_2_ED (0.000000)\n",
      "\t181. feature degree_2_EDD (0.000000)\n",
      "\t182. feature degree_2_EEd (0.000000)\n",
      "\t183. feature degree_2_Ed (0.000000)\n",
      "\t184. feature degree_2_EdDr (0.000000)\n",
      "\t185. feature degree_2_EdM (0.000000)\n",
      "\t186. feature degree_2_EdSD (0.000000)\n",
      "\t187. feature degree_2_HDH (0.000000)\n",
      "\t188. feature degree_2_LISW (0.000000)\n",
      "\t189. feature degree_2_M Ed (0.000000)\n",
      "\t190. feature degree_2_MAE (0.000000)\n",
      "\t191. feature degree_2_MALD (0.000000)\n",
      "\t192. feature any_DEd (0.000000)\n",
      "\t193. feature degree_2_MCL (0.000000)\n",
      "\t194. feature degree_2_MCM (0.000000)\n",
      "\t195. feature degree_2_MCP (0.000000)\n",
      "\t196. feature degree_2_MCRP (0.000000)\n",
      "\t197. feature degree_2_MDE (0.000000)\n",
      "\t198. feature degree_2_ME.d (0.000000)\n",
      "\t199. feature degree_2_MBO (0.000000)\n",
      "\n",
      "RANDOM FOREST COMPLETE\n"
     ]
    }
   ],
   "source": [
    "#Print the Features Importance\n",
    "importances = rnd_clf.feature_importances_\n",
    "std = np.std([tree.feature_importances_ for tree in rnd_clf.estimators_], axis=0)\n",
    "indices = np.argsort(importances)[::-1]\n",
    "\n",
    "output = open(\"feature_scores.csv\", \"w\")\n",
    "output.write(\"rank, feature_name, importance_score\")\n",
    "\n",
    "print(\"\\n\\t RANDOM FOREST FEATURE RANKING\")\n",
    "\n",
    "for f in range(X_train.shape[1]):\n",
    "    feature_name = str(X_train.columns[indices[f]])\n",
    "    importance = importances[indices[f]]\n",
    "    print(\"\\t%d. feature %s (%f)\" % (f + 1, feature_name, importance ))\n",
    "    output.write(\"%d , %s , %f\\n\" %(f+1 , feature_name, importance))\n",
    "\n",
    "output.close()\n",
    "          \n",
    "print(\"\\nRANDOM FOREST COMPLETE\")"
   ]
  },
  {
   "cell_type": "code",
   "execution_count": 123,
   "metadata": {},
   "outputs": [
    {
     "data": {
      "image/png": "[encoded data removed]",
      "text/plain": [
       "<Figure size 432x288 with 1 Axes>"
      ]
     },
     "metadata": {
      "needs_background": "light"
     },
     "output_type": "display_data"
    }
   ],
   "source": [
    "#fpr, tpr, threshold = skm.roc_curve(y_test, predictions)\n",
    "fpr, tpr, threshold = skm.roc_curve(y_train, rnd_clf.predict_proba(X_train)[:,1])\n",
    "\n",
    "fig = plt.figure()\n",
    "lw = 2\n",
    "roc_auc = skm.auc(fpr, tpr, reorder=True)\n",
    "plt.plot(fpr, tpr, color='darkorange', lw=lw, label='ROC curve (score = %0.2f)' % roc_auc)\n",
    "plt.plot([0, 1], [0, 1], color='navy', lw=lw, linestyle='--')\n",
    "plt.xlim([0.0, 1.0])\n",
    "plt.ylim([0.0, 1.005])\n",
    "plt.xlabel('False Positive Rate')\n",
    "plt.ylabel('True Positive Rate')\n",
    "plt.title('')            \n",
    "plt.legend(loc=\"lower right\")\n",
    "\n",
    "plt.savefig(\"ROC_Score_withinsample.png\")"
   ]
  },
  {
   "cell_type": "code",
   "execution_count": null,
   "metadata": {},
   "outputs": [],
   "source": [
    "#Print out a file with the legislator_id, prob(entrepreneuer)"
   ]
  },
  {
   "cell_type": "markdown",
   "metadata": {},
   "source": [
    "### Stratified"
   ]
  },
  {
   "cell_type": "code",
   "execution_count": null,
   "metadata": {},
   "outputs": [],
   "source": [
    "ent = df[df['ent_any_x'] == 1]\n",
    "non_ent = df[df['ent_any_x'] == 0].sample(n=1156)\n",
    "df_strat = pd.concat([ent, non_ent])\n",
    "\n",
    "X = df_strat[['age_at_election',\n",
    " 'age_first',\n",
    " #'age_u1',\n",
    " #'age_u2',\n",
    " 'recpi',\n",
    " 'salary_norm',\n",
    " 'ran_as',\n",
    " 'ran_for',\n",
    " 'gender',\n",
    " 'degree1',\n",
    " 'degree2']]\n",
    "y = df_strat['ent_any_x']\n",
    "\n",
    "degree_first = pd.get_dummies(X['degree1'],drop_first=True)\n",
    "degree_second = pd.get_dummies(X['degree2'],drop_first=True)\n",
    "gender = pd.get_dummies(X['gender'],drop_first=True)\n",
    "ran_as = pd.get_dummies(X['ran_as'],drop_first=True)\n",
    "ran_for = pd.get_dummies(X['ran_for'],drop_first=True)\n",
    "X.drop(['degree1', 'degree2', 'gender', 'ran_as', 'ran_for'], axis=1, inplace=True)\n",
    "X = pd.concat([X, degree_first, degree_second, gender, ran_as, ran_for],axis=1)"
   ]
  },
  {
   "cell_type": "code",
   "execution_count": null,
   "metadata": {},
   "outputs": [],
   "source": [
    "X_train, X_test, y_train, y_test = train_test_split(X, y, test_size=0.30, random_state=101, stratify=y.values)\n",
    "rnd_clf = RandomForestClassifier(n_estimators=500, max_leaf_nodes=16, n_jobs=1)\n",
    "rnd_clf.fit(X_train,y_train)\n",
    "predictions = rnd_clf.predict(X_test)\n",
    "print(classification_report(y_test,predictions))"
   ]
  },
  {
   "cell_type": "code",
   "execution_count": null,
   "metadata": {},
   "outputs": [],
   "source": [
    "y_train.value_counts()"
   ]
  },
  {
   "cell_type": "markdown",
   "metadata": {},
   "source": [
    "# Dealing with Unbalanced Data"
   ]
  },
  {
   "cell_type": "code",
   "execution_count": 20,
   "metadata": {},
   "outputs": [],
   "source": [
    "class Create_ensemble(object):\n",
    "    # Number of Splits, Base Model\n",
    "    def __init__(self, n_splits, base_models):\n",
    "        self.n_splits = n_splits\n",
    "        self.base_models = base_models\n",
    "    def predict(self, X, y, T):\n",
    "        X = np.array(X)\n",
    "        y = np.array(y)\n",
    "        T = np.array(T)\n",
    "        # Stratified K-Folds cross-validator\n",
    "        folds = list(StratifiedKFold(n_splits=self.n_splits, shuffle=True, \n",
    "                                     random_state = random_state).split(X, y))\n",
    "\n",
    "        train_pred = np.zeros((X.shape[0], len(self.base_models)))\n",
    "        test_pred = np.zeros((T.shape[0], len(self.base_models)* self.n_splits))\n",
    "        f1_scores = np.zeros((len(self.base_models), self.n_splits))\n",
    "        recall_scores = np.zeros((len(self.base_models), self.n_splits))\n",
    "        \n",
    "        test_col = 0\n",
    "        for i, clf in enumerate(self.base_models):\n",
    "            for j, (train_idx, valid_idx) in enumerate(folds):\n",
    "                X_train = X[train_idx]\n",
    "                Y_train = y[train_idx]\n",
    "                X_valid = X[valid_idx]\n",
    "                Y_valid = y[valid_idx]\n",
    "                \n",
    "                clf.fit(X_train, Y_train)\n",
    "                \n",
    "                valid_pred = clf.predict(X_valid)\n",
    "                recall  = recall_score(Y_valid, valid_pred, average='macro')\n",
    "                f1 = f1_score(Y_valid, valid_pred, average='macro')\n",
    "                \n",
    "                recall_scores[i][j] = recall\n",
    "                f1_scores[i][j] = f1\n",
    "                \n",
    "                train_pred[valid_idx, i] = valid_pred\n",
    "                test_pred[:, test_col] = clf.predict(T)\n",
    "                test_col += 1\n",
    "                \n",
    "                print( \"Model- {} and CV- {} recall: {}, f1_score: {}\".format(i, j, recall, f1))\n",
    "            \n",
    "        return train_pred, test_pred, recall_scores, f1_scores"
   ]
  },
  {
   "cell_type": "code",
   "execution_count": 21,
   "metadata": {},
   "outputs": [
    {
     "name": "stdout",
     "output_type": "stream",
     "text": [
      "Fitting 5 folds for each of 108 candidates, totalling 540 fits\n"
     ]
    },
    {
     "name": "stderr",
     "output_type": "stream",
     "text": [
      "[Parallel(n_jobs=-1)]: Using backend LokyBackend with 8 concurrent workers.\n",
      "[Parallel(n_jobs=-1)]: Done   9 tasks      | elapsed:   14.7s\n",
      "[Parallel(n_jobs=-1)]: Done  82 tasks      | elapsed:  1.1min\n",
      "[Parallel(n_jobs=-1)]: Done 205 tasks      | elapsed:  2.6min\n",
      "[Parallel(n_jobs=-1)]: Done 376 tasks      | elapsed:  5.0min\n",
      "[Parallel(n_jobs=-1)]: Done 540 out of 540 | elapsed:  7.4min finished\n"
     ]
    },
    {
     "data": {
      "text/plain": [
       "GridSearchCV(cv=StratifiedKFold(n_splits=5, random_state=101, shuffle=True),\n",
       "             error_score='raise-deprecating',\n",
       "             estimator=RandomForestClassifier(bootstrap=True, class_weight=None,\n",
       "                                              criterion='gini', max_depth=None,\n",
       "                                              max_features='auto',\n",
       "                                              max_leaf_nodes=None,\n",
       "                                              min_impurity_decrease=0.0,\n",
       "                                              min_impurity_split=None,\n",
       "                                              min_samples_leaf=1,\n",
       "                                              min_samples_split=2,\n",
       "                                              min_weight_fraction_leaf=0.0,\n",
       "                                              n_estimators='warn', n_jobs=None,\n",
       "                                              oob_score=False, random_state=101,\n",
       "                                              verbose=0, warm_start=False),\n",
       "             iid='warn', n_jobs=-1,\n",
       "             param_grid={'max_depth': [6, 8, 10, 20],\n",
       "                         'min_samples_leaf': [4, 8, 12],\n",
       "                         'min_samples_split': [5, 10, 15],\n",
       "                         'n_estimators': [300, 400, 500]},\n",
       "             pre_dispatch='2*n_jobs', refit=True, return_train_score=False,\n",
       "             scoring=None, verbose=4)"
      ]
     },
     "execution_count": 21,
     "metadata": {},
     "output_type": "execute_result"
    }
   ],
   "source": [
    "random_state = 101\n",
    "cv = StratifiedKFold(n_splits = 5, shuffle=True, random_state = random_state)\n",
    "rdf = RandomForestClassifier(random_state = random_state) \n",
    "scoring = {'Recall': make_scorer(recall_score),\n",
    "           'f1_score': make_scorer(f1_score)\n",
    "          }\n",
    "\n",
    "params = {'max_depth': [6, 8, 10, 20], \n",
    "              'min_samples_split': [5, 10, 15],\n",
    "              'min_samples_leaf' : [4, 8, 12],\n",
    "              'n_estimators' : [300, 400, 500]\n",
    "             }\n",
    "\n",
    "grid_clf = GridSearchCV(estimator = rdf, param_grid = params, cv = cv, n_jobs=-1, verbose=4)\n",
    "grid_clf.fit(X_train, y_train)"
   ]
  },
  {
   "cell_type": "code",
   "execution_count": 22,
   "metadata": {},
   "outputs": [
    {
     "name": "stdout",
     "output_type": "stream",
     "text": [
      "RandomForestClassifier(bootstrap=True, class_weight=None, criterion='gini',\n",
      "                       max_depth=6, max_features='auto', max_leaf_nodes=None,\n",
      "                       min_impurity_decrease=0.0, min_impurity_split=None,\n",
      "                       min_samples_leaf=4, min_samples_split=5,\n",
      "                       min_weight_fraction_leaf=0.0, n_estimators=300,\n",
      "                       n_jobs=None, oob_score=False, random_state=101,\n",
      "                       verbose=0, warm_start=False)\n",
      "{'max_depth': 6, 'min_samples_leaf': 4, 'min_samples_split': 5, 'n_estimators': 300}\n"
     ]
    }
   ],
   "source": [
    "print(grid_clf.best_estimator_)\n",
    "print(grid_clf.best_params_)"
   ]
  },
  {
   "cell_type": "code",
   "execution_count": 13,
   "metadata": {},
   "outputs": [],
   "source": [
    "random_state = 101"
   ]
  },
  {
   "cell_type": "code",
   "execution_count": 23,
   "metadata": {},
   "outputs": [],
   "source": [
    "rdf = RandomForestClassifier(bootstrap=True, class_weight=None, criterion='gini',\n",
    "                       max_depth=6, max_features='auto', max_leaf_nodes=None,\n",
    "                       min_impurity_decrease=0.0, min_impurity_split=None,\n",
    "                       min_samples_leaf=4, min_samples_split=5,\n",
    "                       min_weight_fraction_leaf=0.0, n_estimators=300,\n",
    "                       n_jobs=None, oob_score=False, random_state=101,\n",
    "                       verbose=0, warm_start=False)"
   ]
  },
  {
   "cell_type": "code",
   "execution_count": 24,
   "metadata": {},
   "outputs": [],
   "source": [
    "base_models = [rdf]\n",
    "n_splits = 5\n",
    "lgb_stack = Create_ensemble(n_splits = n_splits, base_models = base_models) "
   ]
  },
  {
   "cell_type": "code",
   "execution_count": 25,
   "metadata": {},
   "outputs": [],
   "source": [
    "# test = X_test.merge(y_test, how=\"left\", left_index=True, right_index=True)"
   ]
  },
  {
   "cell_type": "code",
   "execution_count": 26,
   "metadata": {},
   "outputs": [
    {
     "name": "stdout",
     "output_type": "stream",
     "text": [
      "Model- 0 and CV- 0 recall: 0.5, f1_score: 0.4815391459074733\n",
      "Model- 0 and CV- 1 recall: 0.5, f1_score: 0.4815391459074733\n",
      "Model- 0 and CV- 2 recall: 0.5, f1_score: 0.4815391459074733\n",
      "Model- 0 and CV- 3 recall: 0.5, f1_score: 0.4815391459074733\n",
      "Model- 0 and CV- 4 recall: 0.5, f1_score: 0.4815391459074733\n"
     ]
    }
   ],
   "source": [
    "train_pred, test_pred, recall_scores, f1_scores = lgb_stack.predict(X_train, y_train, X_test)"
   ]
  },
  {
   "cell_type": "code",
   "execution_count": 27,
   "metadata": {},
   "outputs": [
    {
     "name": "stdout",
     "output_type": "stream",
     "text": [
      "1. The F-1 score of the model 0.4815391459074733\n",
      "\n",
      "2. The recall score of the model 0.5\n",
      "\n",
      "3. Classification report \n",
      "               precision    recall  f1-score   support\n",
      "\n",
      "           0       0.93      1.00      0.96     10825\n",
      "           1       0.00      0.00      0.00       830\n",
      "\n",
      "    accuracy                           0.93     11655\n",
      "   macro avg       0.46      0.50      0.48     11655\n",
      "weighted avg       0.86      0.93      0.89     11655\n",
      " \n",
      "\n",
      "4. Confusion matrix \n",
      " [[10825     0]\n",
      " [  830     0]] \n",
      "\n"
     ]
    }
   ],
   "source": [
    "print('1. The F-1 score of the model {}\\n'.format(f1_score(y_train, train_pred, average='macro')))\n",
    "print('2. The recall score of the model {}\\n'.format(recall_score(y_train, train_pred, average='macro')))\n",
    "print('3. Classification report \\n {} \\n'.format(classification_report(y_train, train_pred)))\n",
    "print('4. Confusion matrix \\n {} \\n'.format(confusion_matrix(y_train, train_pred)))"
   ]
  },
  {
   "cell_type": "code",
   "execution_count": 28,
   "metadata": {},
   "outputs": [
    {
     "name": "stdout",
     "output_type": "stream",
     "text": [
      "Training Data ROC 0.5\n"
     ]
    }
   ],
   "source": [
    "print(\"Training Data ROC\",skm.roc_auc_score(y_train,  rdf.predict(X_train)))\n",
    "# print(\"Testing Data ROC\",skm.roc_auc_score(y_test, predictions))"
   ]
  },
  {
   "cell_type": "code",
   "execution_count": 29,
   "metadata": {},
   "outputs": [
    {
     "data": {
      "text/plain": [
       "<matplotlib.legend.Legend at 0x1f7d893a780>"
      ]
     },
     "execution_count": 29,
     "metadata": {},
     "output_type": "execute_result"
    },
    {
     "data": {
      "image/png": "[encoded data removed]",
      "text/plain": [
       "<Figure size 432x288 with 1 Axes>"
      ]
     },
     "metadata": {
      "needs_background": "light"
     },
     "output_type": "display_data"
    }
   ],
   "source": [
    "#fpr, tpr, threshold = skm.roc_curve(y_test, predictions)\n",
    "fpr, tpr, threshold = skm.roc_curve(y_train, rdf.predict_proba(X_train)[:,1])\n",
    "\n",
    "fig = plt.figure()\n",
    "lw = 2\n",
    "roc_auc = skm.auc(fpr, tpr, reorder=True)\n",
    "plt.plot(fpr, tpr, color='darkorange', lw=lw, label='ROC curve (score = %0.2f)' % roc_auc)\n",
    "plt.plot([0, 1], [0, 1], color='navy', lw=lw, linestyle='--')\n",
    "plt.xlim([0.0, 1.0])\n",
    "plt.ylim([0.0, 1.005])\n",
    "plt.xlabel('False Positive Rate')\n",
    "plt.ylabel('True Positive Rate')\n",
    "plt.title('')            \n",
    "plt.legend(loc=\"lower right\")"
   ]
  },
  {
   "cell_type": "code",
   "execution_count": 116,
   "metadata": {},
   "outputs": [
    {
     "data": {
      "image/png": "[encoded data removed]",
      "text/plain": [
       "<Figure size 864x288 with 2 Axes>"
      ]
     },
     "metadata": {
      "needs_background": "light"
     },
     "output_type": "display_data"
    }
   ],
   "source": [
    "# histogram of predicted probabilities\n",
    "plt.figure(figsize=(12, 4))\n",
    "nclasses = 2\n",
    "for i in range(nclasses):\n",
    "    plt.subplot(1, 3, i+1)\n",
    "    plt.hist(train_proba[:, i], bins=10, histtype='bar', rwidth=0.95)\n",
    "    plt.xlim(0,1)\n",
    "    plt.title('Predicted class-{} probabilities'.format(i+1))\n",
    "    plt.xlabel('Probability')\n",
    "    plt.ylabel('Frequency')\n",
    "plt.tight_layout()\n",
    "plt.show()"
   ]
  }
 ],
 "metadata": {
  "kernelspec": {
   "display_name": "Python 3",
   "language": "python",
   "name": "python3"
  },
  "language_info": {
   "codemirror_mode": {
    "name": "ipython",
    "version": 3
   },
   "file_extension": ".py",
   "mimetype": "text/x-python",
   "name": "python",
   "nbconvert_exporter": "python",
   "pygments_lexer": "ipython3",
   "version": "3.6.8"
  }
 },
 "nbformat": 4,
 "nbformat_minor": 2
}
